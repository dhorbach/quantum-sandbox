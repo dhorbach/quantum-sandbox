{
 "cells": [
  {
   "cell_type": "markdown",
   "source": [
    "This is 2-qubit implementation of Grover algorithm\n",
    "\n",
    "### Create initial circuit of N input qubits"
   ],
   "metadata": {
    "collapsed": false,
    "pycharm": {
     "name": "#%% md\n"
    }
   }
  },
  {
   "cell_type": "code",
   "execution_count": 1,
   "metadata": {
    "collapsed": true
   },
   "outputs": [
    {
     "data": {
      "text/plain": "          ┌───┐\n input_0: ┤ H ├\n          ├───┤\n input_1: ┤ H ├\n          ├───┤\noutput_0: ┤ X ├\n          └───┘\n    c0_0: ═════\n               \n    c0_1: ═════\n               ",
      "text/html": "<pre style=\"word-wrap: normal;white-space: pre;background: #fff0;line-height: 1.1;font-family: &quot;Courier New&quot;,Courier,monospace\">          ┌───┐\n input_0: ┤ H ├\n          ├───┤\n input_1: ┤ H ├\n          ├───┤\noutput_0: ┤ X ├\n          └───┘\n    c0_0: ═════\n               \n    c0_1: ═════\n               </pre>"
     },
     "execution_count": 1,
     "metadata": {},
     "output_type": "execute_result"
    }
   ],
   "source": [
    "from qiskit import QuantumCircuit, QuantumRegister, ClassicalRegister\n",
    "\n",
    "qubits = 2\n",
    "def create_curcuit(qubits):\n",
    "    input = QuantumRegister(qubits, name='input')\n",
    "    output = QuantumRegister(1, name='output')\n",
    "    classical = ClassicalRegister(2)\n",
    "\n",
    "    qc = QuantumCircuit(input, output, classical)\n",
    "\n",
    "    for i in range(qubits):\n",
    "        qc.h(i)\n",
    "    qc.x(qubits)\n",
    "    return qc\n",
    "\n",
    "qc = create_curcuit(qubits)\n",
    "qc.draw()"
   ]
  },
  {
   "cell_type": "markdown",
   "source": [
    "### Place Oracle"
   ],
   "metadata": {
    "collapsed": false,
    "pycharm": {
     "name": "#%% md\n"
    }
   }
  },
  {
   "cell_type": "code",
   "execution_count": 2,
   "outputs": [
    {
     "data": {
      "text/plain": "          ┌───┐ ░ ┌───┐     ┌───┐\n input_0: ┤ H ├─░─┤ X ├──■──┤ X ├\n          ├───┤ ░ └───┘  │  └───┘\n input_1: ┤ H ├─░────────■───────\n          ├───┤ ░      ┌─┴─┐     \noutput_0: ┤ X ├─░──────┤ X ├─────\n          └───┘ ░      └───┘     \n    c1_0: ═══════════════════════\n                                 \n    c1_1: ═══════════════════════\n                                 ",
      "text/html": "<pre style=\"word-wrap: normal;white-space: pre;background: #fff0;line-height: 1.1;font-family: &quot;Courier New&quot;,Courier,monospace\">          ┌───┐ ░ ┌───┐     ┌───┐\n input_0: ┤ H ├─░─┤ X ├──■──┤ X ├\n          ├───┤ ░ └───┘  │  └───┘\n input_1: ┤ H ├─░────────■───────\n          ├───┤ ░      ┌─┴─┐     \noutput_0: ┤ X ├─░──────┤ X ├─────\n          └───┘ ░      └───┘     \n    c1_0: ═══════════════════════\n                                 \n    c1_1: ═══════════════════════\n                                 </pre>"
     },
     "execution_count": 2,
     "metadata": {},
     "output_type": "execute_result"
    }
   ],
   "source": [
    "hidden = '01'\n",
    "\n",
    "def place_oracle(qc, hidden):\n",
    "    from qiskit.circuit.library.standard_gates.x import XGate\n",
    "    [qc.x(index) for (index, bit) in zip(range(len(hidden)), hidden) if not int(bit)]\n",
    "    qc.ccx(0, 1, 2)\n",
    "    [qc.x(index) for (index, bit) in zip(range(len(hidden)), hidden) if not int(bit)]\n",
    "\n",
    "qc = create_curcuit(qubits)\n",
    "qc.barrier()\n",
    "place_oracle(qc, hidden)\n",
    "\n",
    "qc.draw()"
   ],
   "metadata": {
    "collapsed": false,
    "pycharm": {
     "name": "#%%\n"
    }
   }
  },
  {
   "cell_type": "markdown",
   "source": [
    "### Place Grover"
   ],
   "metadata": {
    "collapsed": false,
    "pycharm": {
     "name": "#%% md\n"
    }
   }
  },
  {
   "cell_type": "code",
   "execution_count": 3,
   "outputs": [
    {
     "data": {
      "text/plain": "          ┌───┐ ░ ┌───┐     ┌───┐ ░ ┌───┐┌───┐          ┌───┐┌───┐     ┌─┐   \n input_0: ┤ H ├─░─┤ X ├──■──┤ X ├─░─┤ H ├┤ X ├───────■──┤ X ├┤ H ├─────┤M├───\n          ├───┤ ░ └───┘  │  └───┘ ░ ├───┤├───┤┌───┐┌─┴─┐├───┤├───┤┌───┐└╥┘┌─┐\n input_1: ┤ H ├─░────────■────────░─┤ H ├┤ X ├┤ H ├┤ X ├┤ H ├┤ X ├┤ H ├─╫─┤M├\n          ├───┤ ░      ┌─┴─┐      ░ └───┘└───┘└───┘└───┘└───┘└───┘└───┘ ║ └╥┘\noutput_0: ┤ X ├─░──────┤ X ├──────░─────────────────────────────────────╫──╫─\n          └───┘ ░      └───┘      ░                                     ║  ║ \n    c2_0: ══════════════════════════════════════════════════════════════╩══╬═\n                                                                           ║ \n    c2_1: ═════════════════════════════════════════════════════════════════╩═\n                                                                             ",
      "text/html": "<pre style=\"word-wrap: normal;white-space: pre;background: #fff0;line-height: 1.1;font-family: &quot;Courier New&quot;,Courier,monospace\">          ┌───┐ ░ ┌───┐     ┌───┐ ░ ┌───┐┌───┐          ┌───┐┌───┐     ┌─┐   \n input_0: ┤ H ├─░─┤ X ├──■──┤ X ├─░─┤ H ├┤ X ├───────■──┤ X ├┤ H ├─────┤M├───\n          ├───┤ ░ └───┘  │  └───┘ ░ ├───┤├───┤┌───┐┌─┴─┐├───┤├───┤┌───┐└╥┘┌─┐\n input_1: ┤ H ├─░────────■────────░─┤ H ├┤ X ├┤ H ├┤ X ├┤ H ├┤ X ├┤ H ├─╫─┤M├\n          ├───┤ ░      ┌─┴─┐      ░ └───┘└───┘└───┘└───┘└───┘└───┘└───┘ ║ └╥┘\noutput_0: ┤ X ├─░──────┤ X ├──────░─────────────────────────────────────╫──╫─\n          └───┘ ░      └───┘      ░                                     ║  ║ \n    c2_0: ══════════════════════════════════════════════════════════════╩══╬═\n                                                                           ║ \n    c2_1: ═════════════════════════════════════════════════════════════════╩═\n                                                                             </pre>"
     },
     "execution_count": 3,
     "metadata": {},
     "output_type": "execute_result"
    }
   ],
   "source": [
    "def place_grover(qc, qubits):\n",
    "    qc.h(range(qubits))\n",
    "    qc.x(range(qubits))\n",
    "    qc.h(qubits-1)\n",
    "    qc.cx(0, 1)\n",
    "    qc.h(qubits-1)\n",
    "    qc.x(range(qubits))\n",
    "    qc.h(range(qubits))\n",
    "\n",
    "def full_grover(hidden):\n",
    "    qc = create_curcuit(qubits)\n",
    "    qc.barrier()\n",
    "    place_oracle(qc, hidden)\n",
    "    qc.barrier()\n",
    "    place_grover(qc, qubits)\n",
    "    qc.measure([0,1], [0,1])\n",
    "    return qc\n",
    "\n",
    "qc = full_grover(hidden)\n",
    "qc.draw()"
   ],
   "metadata": {
    "collapsed": false,
    "pycharm": {
     "name": "#%%\n"
    }
   }
  },
  {
   "cell_type": "markdown",
   "source": [
    "### Grover results for hidden string '11'"
   ],
   "metadata": {
    "collapsed": false,
    "pycharm": {
     "name": "#%% md\n"
    }
   }
  },
  {
   "cell_type": "code",
   "execution_count": 4,
   "outputs": [
    {
     "data": {
      "text/plain": "<Figure size 864x360 with 1 Axes>",
      "image/png": "[encoded data removed]"
     },
     "execution_count": 4,
     "metadata": {},
     "output_type": "execute_result"
    }
   ],
   "source": [
    "from qiskit import execute, Aer\n",
    "from qiskit.visualization import plot_histogram\n",
    "\n",
    "# Execute experiment\n",
    "backend = Aer.get_backend('qasm_simulator')\n",
    "qc = full_grover('11')\n",
    "result = execute(qc, backend).result()\n",
    "counts = result.get_counts()\n",
    "\n",
    "plot_histogram(counts,  figsize=(12, 5))"
   ],
   "metadata": {
    "collapsed": false,
    "pycharm": {
     "name": "#%%\n"
    }
   }
  },
  {
   "cell_type": "markdown",
   "source": [
    "## Other resources\n",
    "\n",
    "1. https://demonstrations.wolfram.com/QuantumCircuitImplementingGroversSearchAlgorithm/\n",
    "2. https://github.com/Qiskit/qiskit-aqua/blob/master/qiskit/aqua/algorithms/amplitude_amplifiers/grover.py\n"
   ],
   "metadata": {
    "collapsed": false,
    "pycharm": {
     "name": "#%% md\n"
    }
   }
  }
 ],
 "metadata": {
  "kernelspec": {
   "display_name": "Python 3",
   "language": "python",
   "name": "python3"
  },
  "language_info": {
   "codemirror_mode": {
    "name": "ipython",
    "version": 2
   },
   "file_extension": ".py",
   "mimetype": "text/x-python",
   "name": "python",
   "nbconvert_exporter": "python",
   "pygments_lexer": "ipython2",
   "version": "2.7.6"
  }
 },
 "nbformat": 4,
 "nbformat_minor": 0
}