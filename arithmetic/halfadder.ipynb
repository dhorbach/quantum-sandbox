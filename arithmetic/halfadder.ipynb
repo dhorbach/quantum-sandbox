{
 "cells": [
  {
   "cell_type": "markdown",
   "metadata": {
    "collapsed": true,
    "pycharm": {
     "name": "#%% md\n"
    }
   },
   "source": [
    "# Quantum Half Adder"
   ]
  },
  {
   "cell_type": "markdown",
   "metadata": {
    "pycharm": {
     "name": "#%% md\n"
    }
   },
   "source": [
    "## Classical version\n",
    "\n",
    "1 XOR gate + 1 AND gate"
   ]
  },
  {
   "cell_type": "code",
   "execution_count": 4,
   "metadata": {
    "pycharm": {
     "name": "#%%\n"
    }
   },
   "outputs": [
    {
     "data": {
      "text/plain": "<Figure size 127.98x105.804 with 1 Axes>",
      "image/png": "[encoded data removed]"
     },
     "metadata": {
      "needs_background": "light"
     },
     "output_type": "display_data"
    }
   ],
   "source": [
    "import SchemDraw as schemdraw\n",
    "import SchemDraw.logic as logic\n",
    "d = schemdraw.Drawing(unit=.5)\n",
    "S = d.add(logic.XOR2, rgtlabel='$S$')\n",
    "A = d.add(logic.DOT, xy=S.in1)\n",
    "d.add(logic.LINE, d='left', l=d.unit*2, lftlabel='$A$')\n",
    "d.add(logic.LINE, d='left', xy=S.in2)\n",
    "B = d.add(logic.DOT)\n",
    "d.add(logic.LINE, d='left', lftlabel='$B$')\n",
    "\n",
    "d.add(logic.LINE, d='down', xy=A.start, l=d.unit*3)\n",
    "C = d.add(logic.AND2, d='right', anchor='in1', rgtlabel='$C$')\n",
    "d.add(logic.LINE, d='down', xy=B.start, toy=C.in2)\n",
    "d.add(logic.LINE, to=C.in2)\n",
    "d.draw()"
   ]
  },
  {
   "cell_type": "markdown",
   "metadata": {},
   "source": [
    "## Quantum Version\n",
    "\n",
    "XOR = 2 CX gates\n",
    "AND = 1 CCX gate"
   ]
  },
  {
   "cell_type": "code",
   "execution_count": 5,
   "metadata": {
    "pycharm": {
     "name": "#%%\n"
    }
   },
   "outputs": [
    {
     "data": {
      "text/plain": "<qiskit.circuit.instructionset.InstructionSet at 0x7fce8c637d10>"
     },
     "execution_count": 5,
     "metadata": {},
     "output_type": "execute_result"
    }
   ],
   "source": [
    "from qiskit import QuantumCircuit\n",
    "\n",
    "qc = QuantumCircuit(4,2)\n",
    "\n",
    "# init values, default 1+1\n",
    "qc.x(0)\n",
    "qc.x(1)\n",
    "qc.barrier()\n",
    "\n",
    "# xor gate\n",
    "qc.cx(0,2)\n",
    "qc.cx(1,2)\n",
    "qc.barrier()\n",
    "\n",
    "# and gate\n",
    "qc.ccx(0,1,3)\n",
    "qc.barrier()\n",
    "\n",
    "# measure\n",
    "qc.measure([2,3], [0,1])"
   ]
  },
  {
   "cell_type": "code",
   "execution_count": 6,
   "metadata": {
    "pycharm": {
     "name": "#%%\n"
    }
   },
   "outputs": [
    {
     "data": {
      "text/plain": "     ┌───┐ ░            ░       ░       \nq_0: ┤ X ├─░───■────────░───■───░───────\n     ├───┤ ░   │        ░   │   ░       \nq_1: ┤ X ├─░───┼────■───░───■───░───────\n     └───┘ ░ ┌─┴─┐┌─┴─┐ ░   │   ░ ┌─┐   \nq_2: ──────░─┤ X ├┤ X ├─░───┼───░─┤M├───\n           ░ └───┘└───┘ ░ ┌─┴─┐ ░ └╥┘┌─┐\nq_3: ──────░────────────░─┤ X ├─░──╫─┤M├\n           ░            ░ └───┘ ░  ║ └╥┘\nc_0: ══════════════════════════════╩══╬═\n                                      ║ \nc_1: ═════════════════════════════════╩═\n                                        ",
      "text/html": "<pre style=\"word-wrap: normal;white-space: pre;background: #fff0;line-height: 1.1;font-family: &quot;Courier New&quot;,Courier,monospace\">     ┌───┐ ░            ░       ░       \nq_0: ┤ X ├─░───■────────░───■───░───────\n     ├───┤ ░   │        ░   │   ░       \nq_1: ┤ X ├─░───┼────■───░───■───░───────\n     └───┘ ░ ┌─┴─┐┌─┴─┐ ░   │   ░ ┌─┐   \nq_2: ──────░─┤ X ├┤ X ├─░───┼───░─┤M├───\n           ░ └───┘└───┘ ░ ┌─┴─┐ ░ └╥┘┌─┐\nq_3: ──────░────────────░─┤ X ├─░──╫─┤M├\n           ░            ░ └───┘ ░  ║ └╥┘\nc_0: ══════════════════════════════╩══╬═\n                                      ║ \nc_1: ═════════════════════════════════╩═\n                                        </pre>"
     },
     "execution_count": 6,
     "metadata": {},
     "output_type": "execute_result"
    }
   ],
   "source": [
    "# Draw circuit\n",
    "qc.draw()"
   ]
  },
  {
   "cell_type": "code",
   "execution_count": 7,
   "metadata": {
    "pycharm": {
     "name": "#%%\n"
    }
   },
   "outputs": [
    {
     "data": {
      "text/plain": "<Figure size 504x360 with 1 Axes>",
      "image/png": "[encoded data removed]"
     },
     "execution_count": 7,
     "metadata": {},
     "output_type": "execute_result"
    }
   ],
   "source": [
    "from qiskit import execute, Aer\n",
    "from qiskit.visualization import plot_histogram\n",
    "# Execute experiment\n",
    "result = execute(qc, Aer.get_backend('qasm_simulator')).result()\n",
    "counts = result.get_counts()\n",
    "plot_histogram(counts)"
   ]
  }
 ],
 "metadata": {
  "kernelspec": {
   "display_name": "Python 3",
   "language": "python",
   "name": "python3"
  },
  "language_info": {
   "codemirror_mode": {
    "name": "ipython",
    "version": 3
   },
   "file_extension": ".py",
   "mimetype": "text/x-python",
   "name": "python",
   "nbconvert_exporter": "python",
   "pygments_lexer": "ipython3",
   "version": "3.7.5"
  },
  "widgets": {
   "application/vnd.jupyter.widget-state+json": {
    "state": {},
    "version_major": 2,
    "version_minor": 0
   }
  }
 },
 "nbformat": 4,
 "nbformat_minor": 1
}