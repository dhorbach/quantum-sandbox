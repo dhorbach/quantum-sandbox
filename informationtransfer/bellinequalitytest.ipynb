{
 "cells": [
  {
   "cell_type": "markdown",
   "metadata": {
    "collapsed": true,
    "pycharm": {
     "name": "#%% md\n"
    }
   },
   "source": [
    "# Bell Inequality Test\n",
    "\n",
    "## Create circuit"
   ]
  },
  {
   "cell_type": "code",
   "execution_count": 17,
   "outputs": [],
   "source": [
    "from qiskit import QuantumCircuit, QuantumRegister, ClassicalRegister\n",
    "\n",
    "alice = QuantumRegister(1, name=\"alice\")\n",
    "bob = QuantumRegister(1, name=\"bob\")\n",
    "ref1 = QuantumRegister(1, name=\"ref1\")\n",
    "ref2 = QuantumRegister(1, name=\"ref2\")\n",
    "\n",
    "qc = QuantumCircuit(alice, ref1, bob, ref2, ClassicalRegister(4))"
   ],
   "metadata": {
    "collapsed": false,
    "pycharm": {
     "name": "#%%\n"
    }
   }
  },
  {
   "cell_type": "markdown",
   "source": [
    "## Entangle Alice and Bob qubits"
   ],
   "metadata": {
    "collapsed": false,
    "pycharm": {
     "name": "#%% md\n"
    }
   }
  },
  {
   "cell_type": "code",
   "execution_count": 18,
   "outputs": [
    {
     "data": {
      "text/plain": "         ┌───┐     ┌─────────┐\nalice_0: ┤ H ├──■──┤ RX(-45) ├\n         └───┘  │  └─────────┘\n ref1_0: ───────┼─────────────\n              ┌─┴─┐           \n  bob_0: ─────┤ X ├───────────\n              └───┘           \n ref2_0: ─────────────────────\n                              \n   c2_0: ═════════════════════\n                              \n   c2_1: ═════════════════════\n                              \n   c2_2: ═════════════════════\n                              \n   c2_3: ═════════════════════\n                              ",
      "text/html": "<pre style=\"word-wrap: normal;white-space: pre;background: #fff0;line-height: 1.1;font-family: &quot;Courier New&quot;,Courier,monospace\">         ┌───┐     ┌─────────┐\nalice_0: ┤ H ├──■──┤ RX(-45) ├\n         └───┘  │  └─────────┘\n ref1_0: ───────┼─────────────\n              ┌─┴─┐           \n  bob_0: ─────┤ X ├───────────\n              └───┘           \n ref2_0: ─────────────────────\n                              \n   c2_0: ═════════════════════\n                              \n   c2_1: ═════════════════════\n                              \n   c2_2: ═════════════════════\n                              \n   c2_3: ═════════════════════\n                              </pre>"
     },
     "execution_count": 18,
     "metadata": {},
     "output_type": "execute_result"
    }
   ],
   "source": [
    "qc.h(alice)\n",
    "qc.cx(alice, bob)\n",
    "qc.rx(-45, alice)\n",
    "qc.draw()\n"
   ],
   "metadata": {
    "collapsed": false,
    "pycharm": {
     "name": "#%%\n"
    }
   }
  },
  {
   "cell_type": "markdown",
   "source": [
    "## Entangle referee qubits so that choice is random"
   ],
   "metadata": {
    "collapsed": false,
    "pycharm": {
     "name": "#%% md\n"
    }
   }
  },
  {
   "cell_type": "code",
   "execution_count": 19,
   "outputs": [
    {
     "data": {
      "text/plain": "         ┌───┐     ┌─────────┐ ░      \nalice_0: ┤ H ├──■──┤ RX(-45) ├─░──────\n         └───┘  │  └─────────┘ ░ ┌───┐\n ref1_0: ───────┼──────────────░─┤ H ├\n              ┌─┴─┐            ░ └───┘\n  bob_0: ─────┤ X ├────────────░──────\n              └───┘            ░ ┌───┐\n ref2_0: ──────────────────────░─┤ H ├\n                               ░ └───┘\n   c2_0: ═════════════════════════════\n                                      \n   c2_1: ═════════════════════════════\n                                      \n   c2_2: ═════════════════════════════\n                                      \n   c2_3: ═════════════════════════════\n                                      ",
      "text/html": "<pre style=\"word-wrap: normal;white-space: pre;background: #fff0;line-height: 1.1;font-family: &quot;Courier New&quot;,Courier,monospace\">         ┌───┐     ┌─────────┐ ░      \nalice_0: ┤ H ├──■──┤ RX(-45) ├─░──────\n         └───┘  │  └─────────┘ ░ ┌───┐\n ref1_0: ───────┼──────────────░─┤ H ├\n              ┌─┴─┐            ░ └───┘\n  bob_0: ─────┤ X ├────────────░──────\n              └───┘            ░ ┌───┐\n ref2_0: ──────────────────────░─┤ H ├\n                               ░ └───┘\n   c2_0: ═════════════════════════════\n                                      \n   c2_1: ═════════════════════════════\n                                      \n   c2_2: ═════════════════════════════\n                                      \n   c2_3: ═════════════════════════════\n                                      </pre>"
     },
     "execution_count": 19,
     "metadata": {},
     "output_type": "execute_result"
    }
   ],
   "source": [
    "qc.barrier()\n",
    "qc.h(ref1)\n",
    "qc.h(ref2)\n",
    "qc.draw()"
   ],
   "metadata": {
    "collapsed": false,
    "pycharm": {
     "name": "#%%\n"
    }
   }
  },
  {
   "cell_type": "markdown",
   "source": [
    "## Alice and Bob to sqrt(X)"
   ],
   "metadata": {
    "collapsed": false,
    "pycharm": {
     "name": "#%% md\n"
    }
   }
  },
  {
   "cell_type": "code",
   "execution_count": 20,
   "outputs": [
    {
     "data": {
      "text/plain": "         ┌───┐     ┌─────────┐ ░       ░ ┌────────┐\nalice_0: ┤ H ├──■──┤ RX(-45) ├─░───────░─┤ RX(90) ├\n         └───┘  │  └─────────┘ ░ ┌───┐ ░ └───┬────┘\n ref1_0: ───────┼──────────────░─┤ H ├─░─────■─────\n              ┌─┴─┐            ░ └───┘ ░ ┌────────┐\n  bob_0: ─────┤ X ├────────────░───────░─┤ RX(90) ├\n              └───┘            ░ ┌───┐ ░ └───┬────┘\n ref2_0: ──────────────────────░─┤ H ├─░─────■─────\n                               ░ └───┘ ░           \n   c2_0: ══════════════════════════════════════════\n                                                   \n   c2_1: ══════════════════════════════════════════\n                                                   \n   c2_2: ══════════════════════════════════════════\n                                                   \n   c2_3: ══════════════════════════════════════════\n                                                   ",
      "text/html": "<pre style=\"word-wrap: normal;white-space: pre;background: #fff0;line-height: 1.1;font-family: &quot;Courier New&quot;,Courier,monospace\">         ┌───┐     ┌─────────┐ ░       ░ ┌────────┐\nalice_0: ┤ H ├──■──┤ RX(-45) ├─░───────░─┤ RX(90) ├\n         └───┘  │  └─────────┘ ░ ┌───┐ ░ └───┬────┘\n ref1_0: ───────┼──────────────░─┤ H ├─░─────■─────\n              ┌─┴─┐            ░ └───┘ ░ ┌────────┐\n  bob_0: ─────┤ X ├────────────░───────░─┤ RX(90) ├\n              └───┘            ░ ┌───┐ ░ └───┬────┘\n ref2_0: ──────────────────────░─┤ H ├─░─────■─────\n                               ░ └───┘ ░           \n   c2_0: ══════════════════════════════════════════\n                                                   \n   c2_1: ══════════════════════════════════════════\n                                                   \n   c2_2: ══════════════════════════════════════════\n                                                   \n   c2_3: ══════════════════════════════════════════\n                                                   </pre>"
     },
     "execution_count": 20,
     "metadata": {},
     "output_type": "execute_result"
    }
   ],
   "source": [
    "qc.barrier()\n",
    "qc.crx(90, ref1, alice)\n",
    "qc.crx(90, ref2, bob)\n",
    "qc.draw()"
   ],
   "metadata": {
    "collapsed": false,
    "pycharm": {
     "name": "#%%\n"
    }
   }
  },
  {
   "cell_type": "markdown",
   "source": [
    "## Measure results"
   ],
   "metadata": {
    "collapsed": false,
    "pycharm": {
     "name": "#%% md\n"
    }
   }
  },
  {
   "cell_type": "code",
   "execution_count": 21,
   "outputs": [
    {
     "data": {
      "text/plain": "         ┌───┐     ┌─────────┐ ░       ░ ┌────────┐ ░ ┌─┐         \nalice_0: ┤ H ├──■──┤ RX(-45) ├─░───────░─┤ RX(90) ├─░─┤M├─────────\n         └───┘  │  └─────────┘ ░ ┌───┐ ░ └───┬────┘ ░ └╥┘   ┌─┐   \n ref1_0: ───────┼──────────────░─┤ H ├─░─────■──────░──╫────┤M├───\n              ┌─┴─┐            ░ └───┘ ░ ┌────────┐ ░  ║ ┌─┐└╥┘   \n  bob_0: ─────┤ X ├────────────░───────░─┤ RX(90) ├─░──╫─┤M├─╫────\n              └───┘            ░ ┌───┐ ░ └───┬────┘ ░  ║ └╥┘ ║ ┌─┐\n ref2_0: ──────────────────────░─┤ H ├─░─────■──────░──╫──╫──╫─┤M├\n                               ░ └───┘ ░            ░  ║  ║  ║ └╥┘\n   c2_0: ══════════════════════════════════════════════╩══╬══╬══╬═\n                                                          ║  ║  ║ \n   c2_1: ═════════════════════════════════════════════════╩══╬══╬═\n                                                             ║  ║ \n   c2_2: ════════════════════════════════════════════════════╩══╬═\n                                                                ║ \n   c2_3: ═══════════════════════════════════════════════════════╩═\n                                                                  ",
      "text/html": "<pre style=\"word-wrap: normal;white-space: pre;background: #fff0;line-height: 1.1;font-family: &quot;Courier New&quot;,Courier,monospace\">         ┌───┐     ┌─────────┐ ░       ░ ┌────────┐ ░ ┌─┐         \nalice_0: ┤ H ├──■──┤ RX(-45) ├─░───────░─┤ RX(90) ├─░─┤M├─────────\n         └───┘  │  └─────────┘ ░ ┌───┐ ░ └───┬────┘ ░ └╥┘   ┌─┐   \n ref1_0: ───────┼──────────────░─┤ H ├─░─────■──────░──╫────┤M├───\n              ┌─┴─┐            ░ └───┘ ░ ┌────────┐ ░  ║ ┌─┐└╥┘   \n  bob_0: ─────┤ X ├────────────░───────░─┤ RX(90) ├─░──╫─┤M├─╫────\n              └───┘            ░ ┌───┐ ░ └───┬────┘ ░  ║ └╥┘ ║ ┌─┐\n ref2_0: ──────────────────────░─┤ H ├─░─────■──────░──╫──╫──╫─┤M├\n                               ░ └───┘ ░            ░  ║  ║  ║ └╥┘\n   c2_0: ══════════════════════════════════════════════╩══╬══╬══╬═\n                                                          ║  ║  ║ \n   c2_1: ═════════════════════════════════════════════════╩══╬══╬═\n                                                             ║  ║ \n   c2_2: ════════════════════════════════════════════════════╩══╬═\n                                                                ║ \n   c2_3: ═══════════════════════════════════════════════════════╩═\n                                                                  </pre>"
     },
     "execution_count": 21,
     "metadata": {},
     "output_type": "execute_result"
    }
   ],
   "source": [
    "qc.barrier()\n",
    "qc.measure(alice, 0)\n",
    "qc.measure(bob, 1)\n",
    "\n",
    "qc.measure(ref1, 2)\n",
    "qc.measure(ref2, 3)\n",
    "qc.draw()\n"
   ],
   "metadata": {
    "collapsed": false,
    "pycharm": {
     "name": "#%%\n"
    }
   }
  },
  {
   "cell_type": "markdown",
   "source": [
    "## Simulate results"
   ],
   "metadata": {
    "collapsed": false,
    "pycharm": {
     "name": "#%% md\n"
    }
   }
  },
  {
   "cell_type": "code",
   "execution_count": 22,
   "outputs": [],
   "source": [
    "from qiskit import execute, Aer\n",
    "from qiskit.visualization import plot_histogram\n",
    "\n",
    "# Execute experiment\n",
    "backend = Aer.get_backend('qasm_simulator')\n",
    "job = execute(qc, backend)\n",
    "result = job.result()"
   ],
   "metadata": {
    "collapsed": false,
    "pycharm": {
     "name": "#%%\n"
    }
   }
  },
  {
   "cell_type": "markdown",
   "source": [
    "## Collect results"
   ],
   "metadata": {
    "collapsed": false,
    "pycharm": {
     "name": "#%% md\n"
    }
   }
  },
  {
   "cell_type": "code",
   "execution_count": 23,
   "outputs": [],
   "source": [
    "import numpy as np\n",
    "\n",
    "# TODO"
   ],
   "metadata": {
    "collapsed": false,
    "pycharm": {
     "name": "#%%\n"
    }
   }
  },
  {
   "cell_type": "markdown",
   "source": [
    "## Additional resources\n",
    "\n",
    "1. https://algassert.com/quirk#circuit={%22cols%22:[[%22H%22],[%22%E2%97%A6%22,1,1,1,%22X%22],[%22X^-%C2%BC%22],[%22%E2%80%A6%22,%22%E2%80%A6%22,%22%E2%80%A6%22,%22%E2%80%A6%22,%22%E2%80%A6%22],[%22~da85%22,%22~5s2n%22,1,%22~5s2n%22,%22~ahov%22],[1,%22H%22,1,%22H%22],[1,%22Measure%22,1,%22Measure%22],[%22X^%C2%BD%22,%22%E2%80%A2%22],[1,1,1,%22%E2%80%A2%22,%22X^%C2%BD%22],[%22Measure%22,1,1,1,%22Measure%22],[%22%E2%80%A6%22,%22%E2%80%A6%22,%22%E2%80%A6%22,%22%E2%80%A6%22,%22%E2%80%A6%22],[1,%22%E2%80%A2%22,%22X%22,%22%E2%80%A2%22],[%22%E2%80%A2%22,1,%22X%22],[1,1,%22X%22,1,%22%E2%80%A2%22],[1,1,%22Chance%22],[1,1,%22~q6e%22]],%22gates%22:[{%22id%22:%22~da85%22,%22name%22:%22Alice%22,%22matrix%22:%22{{1,0},{0,1}}%22},{%22id%22:%22~ahov%22,%22name%22:%22Bob%22,%22matrix%22:%22{{1,0},{0,1}}%22},{%22id%22:%22~5s2n%22,%22name%22:%22Referee%22,%22matrix%22:%22{{1,0},{0,1}}%22},{%22id%22:%22~q6e%22,%22name%22:%22Win?%22,%22matrix%22:%22{{1,0},{0,1}}%22}]}\n",
    "\n"
   ],
   "metadata": {
    "collapsed": false,
    "pycharm": {
     "name": "#%% md\n"
    }
   }
  }
 ],
 "metadata": {
  "kernelspec": {
   "display_name": "Python 3",
   "language": "python",
   "name": "python3"
  },
  "language_info": {
   "codemirror_mode": {
    "name": "ipython",
    "version": 2
   },
   "file_extension": ".py",
   "mimetype": "text/x-python",
   "name": "python",
   "nbconvert_exporter": "python",
   "pygments_lexer": "ipython2",
   "version": "2.7.6"
  }
 },
 "nbformat": 4,
 "nbformat_minor": 0
}