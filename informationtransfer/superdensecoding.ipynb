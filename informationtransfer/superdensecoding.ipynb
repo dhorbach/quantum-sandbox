{
 "cells": [
  {
   "cell_type": "markdown",
   "metadata": {
    "collapsed": true,
    "pycharm": {
     "name": "#%% md\n"
    }
   },
   "source": [
    "# Superdense coding\n"
   ]
  },
  {
   "cell_type": "markdown",
   "source": [
    "# Decide on message"
   ],
   "metadata": {
    "collapsed": false,
    "pycharm": {
     "name": "#%% md\n"
    }
   }
  },
  {
   "cell_type": "code",
   "execution_count": 1,
   "outputs": [
    {
     "name": "stdout",
     "output_type": "stream",
     "text": [
      "Message is 11\n"
     ]
    }
   ],
   "source": [
    "import random\n",
    "\n",
    "messages = ['00', '01', '10', '11']\n",
    "message = random.choice(messages)\n",
    "print(f'Message is {message}')\n"
   ],
   "metadata": {
    "collapsed": false,
    "pycharm": {
     "name": "#%%\n"
    }
   }
  },
  {
   "cell_type": "markdown",
   "source": [
    "## Initialize circuit with a Bell pair, 1 qubit is sent to Bob\n"
   ],
   "metadata": {
    "collapsed": false,
    "pycharm": {
     "name": "#%% md\n"
    }
   }
  },
  {
   "cell_type": "code",
   "execution_count": 2,
   "outputs": [
    {
     "data": {
      "text/plain": "     ┌───┐     \nq_0: ┤ H ├──■──\n     └───┘┌─┴─┐\nq_1: ─────┤ X ├\n          └───┘\nc_0: ══════════\n               \nc_1: ══════════\n               ",
      "text/html": "<pre style=\"word-wrap: normal;white-space: pre;background: #fff0;line-height: 1.1;font-family: &quot;Courier New&quot;,Courier,monospace\">     ┌───┐     \nq_0: ┤ H ├──■──\n     └───┘┌─┴─┐\nq_1: ─────┤ X ├\n          └───┘\nc_0: ══════════\n               \nc_1: ══════════\n               </pre>"
     },
     "execution_count": 2,
     "metadata": {},
     "output_type": "execute_result"
    }
   ],
   "source": [
    "from qiskit import QuantumCircuit, QuantumRegister, ClassicalRegister\n",
    "qc = QuantumCircuit(2, 2)\n",
    "qc.h(0)\n",
    "qc.cx(0, 1)\n",
    "\n",
    "qc.draw()"
   ],
   "metadata": {
    "collapsed": false,
    "pycharm": {
     "name": "#%%\n"
    }
   }
  },
  {
   "cell_type": "markdown",
   "source": [
    "## Encode message"
   ],
   "metadata": {
    "collapsed": false,
    "pycharm": {
     "name": "#%% md\n"
    }
   }
  },
  {
   "cell_type": "code",
   "execution_count": 3,
   "outputs": [
    {
     "data": {
      "text/plain": "     ┌───┐      ░ ┌───┐┌───┐\nq_0: ┤ H ├──■───░─┤ X ├┤ Z ├\n     └───┘┌─┴─┐ ░ └───┘└───┘\nq_1: ─────┤ X ├─░───────────\n          └───┘ ░           \nc_0: ═══════════════════════\n                            \nc_1: ═══════════════════════\n                            ",
      "text/html": "<pre style=\"word-wrap: normal;white-space: pre;background: #fff0;line-height: 1.1;font-family: &quot;Courier New&quot;,Courier,monospace\">     ┌───┐      ░ ┌───┐┌───┐\nq_0: ┤ H ├──■───░─┤ X ├┤ Z ├\n     └───┘┌─┴─┐ ░ └───┘└───┘\nq_1: ─────┤ X ├─░───────────\n          └───┘ ░           \nc_0: ═══════════════════════\n                            \nc_1: ═══════════════════════\n                            </pre>"
     },
     "execution_count": 3,
     "metadata": {},
     "output_type": "execute_result"
    }
   ],
   "source": [
    "ops = {\n",
    "    '00': (lambda qc: qc),\n",
    "    '01': (lambda qc: qc.x(0)),\n",
    "    '10': (lambda qc: qc.z(0)),\n",
    "    '11': (lambda qc: qc.x(0) and qc.z(0))\n",
    "}\n",
    "\n",
    "qc.barrier()\n",
    "ops[message](qc)\n",
    "\n",
    "qc.draw()"
   ],
   "metadata": {
    "collapsed": false,
    "pycharm": {
     "name": "#%%\n"
    }
   }
  },
  {
   "cell_type": "markdown",
   "source": [
    "## Bob decodes message"
   ],
   "metadata": {
    "collapsed": false,
    "pycharm": {
     "name": "#%% md\n"
    }
   }
  },
  {
   "cell_type": "code",
   "execution_count": 4,
   "outputs": [
    {
     "data": {
      "text/plain": "     ┌───┐      ░ ┌───┐┌───┐ ░      ┌───┐┌─┐\nq_0: ┤ H ├──■───░─┤ X ├┤ Z ├─░───■──┤ H ├┤M├\n     └───┘┌─┴─┐ ░ └───┘└───┘ ░ ┌─┴─┐└┬─┬┘└╥┘\nq_1: ─────┤ X ├─░────────────░─┤ X ├─┤M├──╫─\n          └───┘ ░            ░ └───┘ └╥┘  ║ \nc_0: ═════════════════════════════════╬═══╩═\n                                      ║     \nc_1: ═════════════════════════════════╩═════\n                                            ",
      "text/html": "<pre style=\"word-wrap: normal;white-space: pre;background: #fff0;line-height: 1.1;font-family: &quot;Courier New&quot;,Courier,monospace\">     ┌───┐      ░ ┌───┐┌───┐ ░      ┌───┐┌─┐\nq_0: ┤ H ├──■───░─┤ X ├┤ Z ├─░───■──┤ H ├┤M├\n     └───┘┌─┴─┐ ░ └───┘└───┘ ░ ┌─┴─┐└┬─┬┘└╥┘\nq_1: ─────┤ X ├─░────────────░─┤ X ├─┤M├──╫─\n          └───┘ ░            ░ └───┘ └╥┘  ║ \nc_0: ═════════════════════════════════╬═══╩═\n                                      ║     \nc_1: ═════════════════════════════════╩═════\n                                            </pre>"
     },
     "execution_count": 4,
     "metadata": {},
     "output_type": "execute_result"
    }
   ],
   "source": [
    "qc.barrier()\n",
    "qc.cx(0, 1)\n",
    "qc.h(0)\n",
    "qc.measure(range(2), range(2))\n",
    "qc.draw()"
   ],
   "metadata": {
    "collapsed": false,
    "pycharm": {
     "name": "#%%\n"
    }
   }
  },
  {
   "cell_type": "markdown",
   "source": [
    "## Measure results"
   ],
   "metadata": {
    "collapsed": false,
    "pycharm": {
     "name": "#%% md\n"
    }
   }
  },
  {
   "cell_type": "code",
   "execution_count": 5,
   "outputs": [
    {
     "name": "stdout",
     "output_type": "stream",
     "text": [
      "Initial message was 11\n"
     ]
    },
    {
     "data": {
      "text/plain": "<Figure size 864x360 with 1 Axes>",
      "image/png": "[encoded data removed]"
     },
     "execution_count": 5,
     "metadata": {},
     "output_type": "execute_result"
    }
   ],
   "source": [
    "from qiskit import execute, Aer\n",
    "from qiskit.visualization import plot_histogram\n",
    "\n",
    "# Execute experiment\n",
    "backend = Aer.get_backend('qasm_simulator')\n",
    "result = execute(qc, backend).result()\n",
    "counts = result.get_counts()\n",
    "\n",
    "print(f'Initial message was {message}')\n",
    "plot_histogram(counts,  figsize=(12, 5))"
   ],
   "metadata": {
    "collapsed": false,
    "pycharm": {
     "name": "#%%\n"
    }
   }
  }
 ],
 "metadata": {
  "kernelspec": {
   "name": "python3",
   "language": "python",
   "display_name": "Python 3"
  },
  "language_info": {
   "codemirror_mode": {
    "name": "ipython",
    "version": 2
   },
   "file_extension": ".py",
   "mimetype": "text/x-python",
   "name": "python",
   "nbconvert_exporter": "python",
   "pygments_lexer": "ipython2",
   "version": "2.7.6"
  }
 },
 "nbformat": 4,
 "nbformat_minor": 0
}